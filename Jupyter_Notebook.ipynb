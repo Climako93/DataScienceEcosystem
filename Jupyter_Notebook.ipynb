{
 "cells": [
  {
   "cell_type": "markdown",
   "id": "57c9321c-2b3a-44a4-8a59-ad7f4292b822",
   "metadata": {},
   "source": [
    "# Data Science Tools and Ecosystem"
   ]
  },
  {
   "cell_type": "markdown",
   "id": "17f03b52-d448-4969-a3dd-76f2fac55b68",
   "metadata": {},
   "source": [
    "In this notebook, Data Science Tools and Ecosystem are summarized."
   ]
  },
  {
   "cell_type": "markdown",
   "id": "ab1d3dd4-57b3-4563-accc-b0e1eed88a36",
   "metadata": {},
   "source": [
    "**Objectives :**\n",
    "- List popular languages for Data Science\n",
    "- List popular environment for Data Science\n",
    "- List popular librairies for Data Science\n",
    "- Creation of table\n",
    "- Using Markdown"
   ]
  },
  {
   "cell_type": "markdown",
   "id": "b10dae3a-1ccf-4ce3-8d84-45784a3ba1f5",
   "metadata": {},
   "source": [
    "## Author\n",
    "Njomy"
   ]
  },
  {
   "cell_type": "code",
   "execution_count": null,
   "id": "7113d257-6243-4b63-bddb-9ae11e1c091f",
   "metadata": {},
   "outputs": [],
   "source": []
  }
 ],
 "metadata": {
  "kernelspec": {
   "display_name": "Python 3 (ipykernel)",
   "language": "python",
   "name": "python3"
  },
  "language_info": {
   "codemirror_mode": {
    "name": "ipython",
    "version": 3
   },
   "file_extension": ".py",
   "mimetype": "text/x-python",
   "name": "python",
   "nbconvert_exporter": "python",
   "pygments_lexer": "ipython3",
   "version": "3.12.8"
  }
 },
 "nbformat": 4,
 "nbformat_minor": 5
}
